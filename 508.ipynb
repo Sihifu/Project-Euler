{
 "cells": [
  {
   "cell_type": "code",
   "execution_count": 4,
   "metadata": {},
   "outputs": [],
   "source": [
    "import numpy as np\n",
    "import cmath"
   ]
  },
  {
   "cell_type": "code",
   "execution_count": 5,
   "metadata": {},
   "outputs": [],
   "source": [
    "def calculate_gaussian_bin_code(z):\n",
    "    out=[]\n",
    "    a=int(z.real)\n",
    "    b=int(z.imag)\n",
    "    while not(a==0 and b==0):\n",
    "        if (a+b)%2==0:\n",
    "            out.append(0)\n",
    "            a_hold=a\n",
    "            a=int((-a+b)/2)\n",
    "            b=-int((a_hold+b)/2)\n",
    "        else:\n",
    "            a=a-1\n",
    "            a_hold=a\n",
    "            a=int((-a+b)/2)\n",
    "            b=-int((a_hold+b)/2)\n",
    "            out.append(1)\n",
    "    out=np.array(out[::-1])\n",
    "    return out\n",
    "\n",
    "def binary_gaussian_to_complex(bin_gauss):\n",
    "    g=complex(-1,1)\n",
    "    G=np.array([g**(j) for j in range(bin_gauss.size-1,-1,-1)])\n",
    "    out=bin_gauss*G\n",
    "    return np.sum(bin_gauss*G)\n",
    "\n",
    "f=lambda z :np.sum(calculate_gaussian_bin_code(z))\n"
   ]
  },
  {
   "cell_type": "code",
   "execution_count": 6,
   "metadata": {},
   "outputs": [
    {
     "name": "stdout",
     "output_type": "stream",
     "text": [
      "[1 1 0 0 1 0 1 1 0 0 1 1]\n",
      "(24-11j)\n",
      "7\n"
     ]
    }
   ],
   "source": [
    "z=complex(24,-11)\n",
    "out=calculate_gaussian_bin_code(z)\n",
    "print(out)\n",
    "z_reconstructed=binary_gaussian_to_complex(out)\n",
    "print(z_reconstructed)\n",
    "print(f(complex(24,-11)))"
   ]
  },
  {
   "cell_type": "code",
   "execution_count": 7,
   "metadata": {},
   "outputs": [
    {
     "name": "stdout",
     "output_type": "stream",
     "text": [
      "10795060.0\n"
     ]
    }
   ],
   "source": [
    "l=0\n",
    "for i in range(-500,501):\n",
    "    for j in range(-500,501):\n",
    "        z=complex(i,j)\n",
    "        l+=f(z)\n",
    "print(l)"
   ]
  }
 ],
 "metadata": {
  "kernelspec": {
   "display_name": "venv",
   "language": "python",
   "name": "python3"
  },
  "language_info": {
   "codemirror_mode": {
    "name": "ipython",
    "version": 3
   },
   "file_extension": ".py",
   "mimetype": "text/x-python",
   "name": "python",
   "nbconvert_exporter": "python",
   "pygments_lexer": "ipython3",
   "version": "3.9.13"
  },
  "orig_nbformat": 4
 },
 "nbformat": 4,
 "nbformat_minor": 2
}
