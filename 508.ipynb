{
 "cells": [
  {
   "cell_type": "code",
   "execution_count": 7,
   "metadata": {},
   "outputs": [],
   "source": [
    "import numpy as np\n",
    "import cmath"
   ]
  },
  {
   "cell_type": "code",
   "execution_count": 8,
   "metadata": {},
   "outputs": [],
   "source": [
    "def calculate_gaussian_bin_code(z):\n",
    "    out=[]\n",
    "    a=int(z.real)\n",
    "    b=int(z.imag)\n",
    "    while not(a==0 and b==0):\n",
    "        r=(a+b)%2\n",
    "        if r==0:\n",
    "            out.append(0)\n",
    "        else:\n",
    "            out.append(1)\n",
    "        a_hold=a\n",
    "        a=int((-a+b+r)/2)\n",
    "        b=-int((a_hold+b-r)/2)\n",
    "    out=np.array(out[::-1])\n",
    "    return out\n",
    "\n",
    "def calculate_gaussian_bin_code_matrix(z):\n",
    "    A=np.array([[-0.5,0.5],[-0.5,-0.5]])\n",
    "    x=np.array([z.real,z.imag],dtype=int).reshape((2,1))\n",
    "    P=lambda x: A@x+0.5*(np.sum(x)%2)\n",
    "    r=(np.sum(x))%2\n",
    "    out=[]\n",
    "    out.append(int(r))\n",
    "    while 1:\n",
    "        x=P(x).astype(int)\n",
    "        if np.all(x.astype(int)==np.zeros((2,1),dtype=int)):\n",
    "            break\n",
    "        r=np.sum(x)%2\n",
    "        out.append(int(r))\n",
    "\n",
    "    out=np.array(out[::-1])\n",
    "    return out\n",
    "\n",
    "def binary_gaussian_to_complex(bin_gauss):\n",
    "    g=complex(-1,1)\n",
    "    G=np.array([g**(j) for j in range(bin_gauss.size-1,-1,-1)])\n",
    "    out=bin_gauss*G\n",
    "    return np.sum(bin_gauss*G)\n",
    "\n",
    "f=lambda z :np.sum(calculate_gaussian_bin_code(z))\n",
    "\n",
    "def base_to_decimal(base,code):\n",
    "    G=np.array([base**(j) for j in range(code.size-1,-1,-1)])\n",
    "    return np.sum(code*G)\n"
   ]
  },
  {
   "cell_type": "code",
   "execution_count": 17,
   "metadata": {},
   "outputs": [
    {
     "name": "stdout",
     "output_type": "stream",
     "text": [
      "[1 0 0]\n",
      "1\n"
     ]
    }
   ],
   "source": [
    "z=complex(0,-2)\n",
    "code=calculate_gaussian_bin_code_matrix(z)\n",
    "print(code)\n",
    "print(f(z))"
   ]
  },
  {
   "cell_type": "code",
   "execution_count": 18,
   "metadata": {},
   "outputs": [
    {
     "name": "stdout",
     "output_type": "stream",
     "text": [
      "[3. 5. 7. 9. 6. 8. 5. 7. 4. 6. 3. 5. 2. 4. 1. 3. 0. 2. 4. 6. 3. 5. 2. 4.\n",
      " 1. 3. 5. 7. 4. 6. 3. 5. 2.]\n",
      "[4. 5. 6. 7. 3. 4. 5. 6. 2. 3. 4. 5. 1. 2. 3. 4. 0. 1. 2. 3. 4. 5. 6. 7.\n",
      " 3. 4. 5. 6. 2. 3. 4. 5. 1.]\n",
      "[4. 5. 6. 7. 3. 4. 5. 6. 2. 3. 4. 5. 1. 2. 3. 4. 0. 1. 2. 3. 4. 5. 6. 7.\n",
      " 3. 4. 5. 6. 2. 3. 4. 5. 1.]\n"
     ]
    }
   ],
   "source": [
    "a=[]\n",
    "b=[]\n",
    "c=[]\n",
    "\n",
    "for i in range(-16,17):\n",
    "    a.append(f(complex(0,i)))\n",
    "    b.append(f(complex(i,0)))\n",
    "    c.append(f(complex(i,i)))\n",
    "a=np.array(a)\n",
    "b=np.array(b)\n",
    "c=np.array(b)\n",
    "\n",
    "print(a)\n",
    "print(b)\n",
    "print(c)"
   ]
  },
  {
   "cell_type": "code",
   "execution_count": 14,
   "metadata": {},
   "outputs": [
    {
     "name": "stdout",
     "output_type": "stream",
     "text": [
      "-2\n"
     ]
    }
   ],
   "source": [
    "code=np.array([1,3,1])\n",
    "code=np.array([1,2])\n",
    "\n",
    "print(base_to_decimal(-4,code))\n"
   ]
  },
  {
   "cell_type": "code",
   "execution_count": null,
   "metadata": {},
   "outputs": [],
   "source": [
    "l=0\n",
    "for i in range(-50,51):\n",
    "    for j in range(-50,51):\n",
    "        z=complex(i,j)\n",
    "        l+=f(z)\n",
    "print(l)"
   ]
  }
 ],
 "metadata": {
  "kernelspec": {
   "display_name": "venv",
   "language": "python",
   "name": "python3"
  },
  "language_info": {
   "codemirror_mode": {
    "name": "ipython",
    "version": 3
   },
   "file_extension": ".py",
   "mimetype": "text/x-python",
   "name": "python",
   "nbconvert_exporter": "python",
   "pygments_lexer": "ipython3",
   "version": "3.9.13"
  },
  "orig_nbformat": 4
 },
 "nbformat": 4,
 "nbformat_minor": 2
}
